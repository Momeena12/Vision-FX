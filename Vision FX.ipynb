{
 "cells": [
  {
   "cell_type": "markdown",
   "metadata": {},
   "source": [
    "# <p style=\"text-align: center; font-size: 50px; font-weight: bold; color: #4CAF50;\">Vision FX</p>\n",
    "### <p style=\"text-align: center; font-size: 24px; font-weight: bold; color: #2196F3;\">An Image Filtering Application</p>\n",
    "#### <p style=\"text-align: center; font-size: 20px; color: #FF5722;\">By: Farhan Ahmad & Momena Azhar</p>"
   ]
  },
  {
   "cell_type": "code",
   "execution_count": 5,
   "metadata": {
    "colab": {
     "base_uri": "https://localhost:8080/"
    },
    "id": "bvhwS5jAYWRn",
    "outputId": "c07eb46f-7e11-45db-e1d8-567aed7a55c1"
   },
   "outputs": [
    {
     "name": "stdout",
     "output_type": "stream",
     "text": [
      "Requirement already satisfied: opencv-python in /usr/local/lib/python3.11/dist-packages (4.11.0.86)\n",
      "Requirement already satisfied: numpy>=1.21.2 in /usr/local/lib/python3.11/dist-packages (from opencv-python) (1.26.4)\n"
     ]
    }
   ],
   "source": [
    "!pip install opencv-python"
   ]
  },
  {
   "cell_type": "code",
   "execution_count": 9,
   "metadata": {
    "colab": {
     "base_uri": "https://localhost:8080/"
    },
    "id": "jaWdnRjJZexH",
    "outputId": "8e885739-c0db-490e-8d07-07ce2dfa41b2"
   },
   "outputs": [
    {
     "name": "stdout",
     "output_type": "stream",
     "text": [
      "Requirement already satisfied: opencv-python-headless in /usr/local/lib/python3.11/dist-packages (4.11.0.86)\n",
      "Requirement already satisfied: numpy>=1.21.2 in /usr/local/lib/python3.11/dist-packages (from opencv-python-headless) (1.26.4)\n"
     ]
    }
   ],
   "source": [
    "!pip install opencv-python-headless"
   ]
  },
  {
   "cell_type": "code",
   "execution_count": 6,
   "metadata": {
    "colab": {
     "base_uri": "https://localhost:8080/"
    },
    "id": "7v7MrEM-ZEMf",
    "outputId": "224655d0-d852-482c-df01-9464efc945d0"
   },
   "outputs": [
    {
     "name": "stdout",
     "output_type": "stream",
     "text": [
      "Requirement already satisfied: tk in /usr/local/lib/python3.11/dist-packages (0.1.0)\n"
     ]
    }
   ],
   "source": [
    "!pip install tk"
   ]
  },
  {
   "cell_type": "code",
   "execution_count": 17,
   "metadata": {
    "colab": {
     "base_uri": "https://localhost:8080/"
    },
    "id": "tOvz-koScPgn",
    "outputId": "aa2992fb-ba07-4634-a0a5-ac48b25d1e4e"
   },
   "outputs": [
    {
     "name": "stdout",
     "output_type": "stream",
     "text": [
      "Collecting PyQt5\n",
      "  Downloading PyQt5-5.15.11-cp38-abi3-manylinux_2_17_x86_64.whl.metadata (2.1 kB)\n",
      "Collecting PyQt5-sip<13,>=12.15 (from PyQt5)\n",
      "  Downloading PyQt5_sip-12.17.0-cp311-cp311-manylinux_2_5_x86_64.manylinux1_x86_64.whl.metadata (472 bytes)\n",
      "Collecting PyQt5-Qt5<5.16.0,>=5.15.2 (from PyQt5)\n",
      "  Downloading PyQt5_Qt5-5.15.16-1-py3-none-manylinux2014_x86_64.whl.metadata (536 bytes)\n",
      "Downloading PyQt5-5.15.11-cp38-abi3-manylinux_2_17_x86_64.whl (8.2 MB)\n",
      "\u001b[2K   \u001b[90m━━━━━━━━━━━━━━━━━━━━━━━━━━━━━━━━━━━━━━━━\u001b[0m \u001b[32m8.2/8.2 MB\u001b[0m \u001b[31m61.8 MB/s\u001b[0m eta \u001b[36m0:00:00\u001b[0m\n",
      "\u001b[?25hDownloading PyQt5_Qt5-5.15.16-1-py3-none-manylinux2014_x86_64.whl (61.1 MB)\n",
      "\u001b[2K   \u001b[90m━━━━━━━━━━━━━━━━━━━━━━━━━━━━━━━━━━━━━━━━\u001b[0m \u001b[32m61.1/61.1 MB\u001b[0m \u001b[31m20.3 MB/s\u001b[0m eta \u001b[36m0:00:00\u001b[0m\n",
      "\u001b[?25hDownloading PyQt5_sip-12.17.0-cp311-cp311-manylinux_2_5_x86_64.manylinux1_x86_64.whl (276 kB)\n",
      "\u001b[2K   \u001b[90m━━━━━━━━━━━━━━━━━━━━━━━━━━━━━━━━━━━━━━━━\u001b[0m \u001b[32m276.4/276.4 kB\u001b[0m \u001b[31m21.4 MB/s\u001b[0m eta \u001b[36m0:00:00\u001b[0m\n",
      "\u001b[?25hInstalling collected packages: PyQt5-Qt5, PyQt5-sip, PyQt5\n",
      "Successfully installed PyQt5-5.15.11 PyQt5-Qt5-5.15.16 PyQt5-sip-12.17.0\n"
     ]
    }
   ],
   "source": [
    "!pip install PyQt5"
   ]
  },
  {
   "cell_type": "code",
   "execution_count": null,
   "metadata": {},
   "outputs": [
    {
     "name": "stderr",
     "output_type": "stream",
     "text": [
      "2025-03-14 21:46:23.965 python[65468:5701585] +[IMKClient subclass]: chose IMKClient_Modern\n",
      "2025-03-14 21:46:23.965 python[65468:5701585] +[IMKInputSession subclass]: chose IMKInputSession_Modern\n",
      "2025-03-14 21:46:28.673 python[65468:5701585] The class 'NSOpenPanel' overrides the method identifier.  This method is implemented by class 'NSWindow'\n"
     ]
    }
   ],
   "source": [
    "import sys\n",
    "import cv2\n",
    "import numpy as np\n",
    "from PyQt5.QtWidgets import QApplication, QWidget, QLabel, QPushButton, QFileDialog, QVBoxLayout, QHBoxLayout, QComboBox\n",
    "from PyQt5.QtGui import QPixmap, QImage, QFont\n",
    "from PyQt5.QtCore import Qt  # Import Qt for text alignment\n",
    "\n",
    "class ImageFilterApp(QWidget):\n",
    "    def __init__(self):\n",
    "        \"\"\"Initialize the GUI application.\"\"\"\n",
    "        super().__init__()\n",
    "        self.initUI()\n",
    "        self.img = None  # Stores the uploaded image\n",
    "        self.processed_img = None  # Stores the filtered image\n",
    "\n",
    "    def initUI(self):\n",
    "        \"\"\"Set up the GUI layout and components.\"\"\"\n",
    "        self.setWindowTitle(\"Image Filters GUI\")\n",
    "        self.setStyleSheet(\"background-color: black;\")  # Set background color\n",
    "        self.setGeometry(100, 100, 800, 600)  # Set window size and position\n",
    "\n",
    "        layout = QVBoxLayout()\n",
    "\n",
    "        # 🔹 Welcome Header\n",
    "        self.header_label = QLabel(\"WELCOME TO VISION FX\")\n",
    "        self.header_label.setFont(QFont(\"Arial\", 24, QFont.Bold))  # Set font size and bold text\n",
    "        self.header_label.setStyleSheet(\"color: white; text-align: center;\")  # Style the header\n",
    "        self.header_label.setAlignment(Qt.AlignCenter)  # Align text to center\n",
    "        layout.addWidget(self.header_label)\n",
    "\n",
    "        # Upload button\n",
    "        self.upload_btn = QPushButton(\"Upload Image\")\n",
    "        self.upload_btn.setStyleSheet(\"background-color: gray; color: white;\")\n",
    "        self.upload_btn.clicked.connect(self.upload_image)\n",
    "        layout.addWidget(self.upload_btn)\n",
    "\n",
    "        # \"Select Filter\" button\n",
    "        self.select_filter_btn = QPushButton(\"Select Filter\")\n",
    "        self.select_filter_btn.setStyleSheet(\"background-color: gray; color: white;\")\n",
    "        self.select_filter_btn.setEnabled(False)  # Initially disabled until an image is uploaded\n",
    "        self.select_filter_btn.clicked.connect(self.open_filter_dropdown)\n",
    "        layout.addWidget(self.select_filter_btn)\n",
    "\n",
    "        # Filter selection dropdown (hidden initially)\n",
    "        self.filter_box = QComboBox()\n",
    "        self.filter_box.addItems([\"Grayscale\", \"Blurring\", \"Edge Detection\", \"HSV\", \"Sepia\"])\n",
    "        self.filter_box.setVisible(False)  # Hide initially\n",
    "        self.filter_box.currentIndexChanged.connect(self.filter_selected)  # Apply filter on selection\n",
    "        layout.addWidget(self.filter_box)\n",
    "\n",
    "        # Image display layout\n",
    "        image_layout = QHBoxLayout()\n",
    "\n",
    "        # Label to display the original image\n",
    "        self.original_label = QLabel()\n",
    "        self.original_label.setStyleSheet(\"background-color: black;\")\n",
    "        image_layout.addWidget(self.original_label)\n",
    "\n",
    "        # Label to display the processed image\n",
    "        self.processed_label = QLabel()\n",
    "        self.processed_label.setStyleSheet(\"background-color: black;\")\n",
    "        image_layout.addWidget(self.processed_label)\n",
    "\n",
    "        layout.addLayout(image_layout)\n",
    "\n",
    "        # Download button (Initially hidden)\n",
    "        self.download_btn = QPushButton(\"Download Image\")\n",
    "        self.download_btn.setStyleSheet(\"background-color: green; color: white;\")\n",
    "        self.download_btn.setEnabled(False)  # Initially disabled until an image is processed\n",
    "        self.download_btn.clicked.connect(self.download_image)\n",
    "        layout.addWidget(self.download_btn)\n",
    "\n",
    "        self.setLayout(layout)\n",
    "\n",
    "    def upload_image(self):\n",
    "        \"\"\"Opens a file dialog to upload an image.\"\"\"\n",
    "        file_path, _ = QFileDialog.getOpenFileName(self, \"Open Image File\", \"\", \"Images (*.png *.jpg *.jpeg *.bmp *.tiff)\")\n",
    "        if file_path:\n",
    "            self.img = cv2.imread(file_path)  # Read the image using OpenCV\n",
    "            self.display_image(self.img, self.original_label)  # Show the original image\n",
    "            self.select_filter_btn.setEnabled(True)  # Enable filter selection button\n",
    "\n",
    "    def open_filter_dropdown(self):\n",
    "        \"\"\"Opens the filter dropdown immediately when clicking 'Select Filter' button.\"\"\"\n",
    "        self.filter_box.setVisible(True)  # Show the dropdown\n",
    "        self.filter_box.showPopup()  # Immediately open the dropdown\n",
    "\n",
    "    def filter_selected(self):\n",
    "        \"\"\"Trigger the filter application when a filter is selected.\"\"\"\n",
    "        if self.filter_box.currentText():  \n",
    "            self.apply_filter()\n",
    "\n",
    "    def apply_filter(self):\n",
    "        \"\"\"Applies the selected filter to the uploaded image.\"\"\"\n",
    "        if self.img is not None:\n",
    "            selected_filter = self.filter_box.currentText()\n",
    "            self.processed_img = self.apply_selected_filter(self.img, selected_filter)\n",
    "            self.display_image(self.processed_img, self.processed_label)\n",
    "            self.download_btn.setEnabled(True)  # Enable download button\n",
    "\n",
    "    def apply_selected_filter(self, img, filter_type):\n",
    "        \"\"\"Applies the specified filter to the image.\"\"\"\n",
    "        if filter_type == \"Grayscale\":\n",
    "            return cv2.cvtColor(img, cv2.COLOR_BGR2GRAY)  # Convert to grayscale\n",
    "        elif filter_type == \"Blurring\":\n",
    "            return cv2.GaussianBlur(img, (15, 15), 0)  # Apply Gaussian blur\n",
    "        elif filter_type == \"Edge Detection\":\n",
    "            gray = cv2.cvtColor(img, cv2.COLOR_BGR2GRAY)  # Convert to grayscale\n",
    "            return cv2.Canny(gray, 100, 200)  # Apply Canny edge detection\n",
    "        elif filter_type == \"HSV\":\n",
    "            return cv2.cvtColor(img, cv2.COLOR_BGR2HSV)  # Convert to HSV color space\n",
    "        elif filter_type == \"Sepia\":\n",
    "            sepia_filter = np.array([[0.272, 0.534, 0.131],\n",
    "                                     [0.349, 0.686, 0.168],\n",
    "                                     [0.393, 0.769, 0.189]])  # Sepia tone matrix\n",
    "            sepia_img = cv2.transform(img, sepia_filter)\n",
    "            return np.clip(sepia_img, 0, 255).astype(np.uint8)  # Ensure valid pixel range\n",
    "        return img  # Return the original image if no filter is applied\n",
    "\n",
    "    def display_image(self, img, label):\n",
    "        \"\"\"Displays the image in the specified QLabel.\"\"\"\n",
    "        if len(img.shape) == 2:  # If grayscale image\n",
    "            q_format = QImage.Format_Grayscale8\n",
    "        else:\n",
    "            img = cv2.cvtColor(img, cv2.COLOR_BGR2RGB)  # Convert BGR to RGB for correct color display\n",
    "            q_format = QImage.Format_RGB888\n",
    "\n",
    "        height, width, ch = img.shape if len(img.shape) == 3 else (img.shape[0], img.shape[1], 1)\n",
    "        bytes_per_line = ch * width\n",
    "        q_img = QImage(img.data, width, height, bytes_per_line, q_format)\n",
    "        pixmap = QPixmap.fromImage(q_img)\n",
    "        pixmap = pixmap.scaled(300, 300)  # Standardized image size\n",
    "        label.setPixmap(pixmap)\n",
    "        label.setScaledContents(True)  # Ensure the image fits properly\n",
    "\n",
    "    def download_image(self):\n",
    "        \"\"\"Saves the processed image to the user's computer.\"\"\"\n",
    "        if self.processed_img is not None:\n",
    "            file_path, _ = QFileDialog.getSaveFileName(self, \"Save Image\", \"\", \"JPEG Files (*.jpg);;PNG Files (*.png)\")\n",
    "            if file_path:\n",
    "                cv2.imwrite(file_path, self.processed_img, [int(cv2.IMWRITE_JPEG_QUALITY), 95])  # Save with high quality\n",
    "\n",
    "if __name__ == \"__main__\":\n",
    "    app = QApplication(sys.argv)\n",
    "    window = ImageFilterApp()\n",
    "    window.show()\n",
    "    sys.exit(app.exec_())"
   ]
  },
  {
   "cell_type": "code",
   "execution_count": null,
   "metadata": {},
   "outputs": [],
   "source": []
  }
 ],
 "metadata": {
  "accelerator": "TPU",
  "colab": {
   "gpuType": "V28",
   "provenance": []
  },
  "kernelspec": {
   "display_name": "Python 3 (ipykernel)",
   "language": "python",
   "name": "python3"
  },
  "language_info": {
   "codemirror_mode": {
    "name": "ipython",
    "version": 3
   },
   "file_extension": ".py",
   "mimetype": "text/x-python",
   "name": "python",
   "nbconvert_exporter": "python",
   "pygments_lexer": "ipython3",
   "version": "3.11.7"
  }
 },
 "nbformat": 4,
 "nbformat_minor": 4
}
